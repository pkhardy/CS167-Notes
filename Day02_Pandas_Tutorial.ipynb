{
  "cells": [
    {
      "cell_type": "markdown",
      "metadata": {
        "id": "view-in-github",
        "colab_type": "text"
      },
      "source": [
        "<a href=\"https://colab.research.google.com/github/pkhardy/CS167-Notes/blob/main/Day02_Pandas_Tutorial.ipynb\" target=\"_parent\"><img src=\"https://colab.research.google.com/assets/colab-badge.svg\" alt=\"Open In Colab\"/></a>"
      ]
    },
    {
      "cell_type": "markdown",
      "metadata": {
        "id": "zioag6gmEGSV"
      },
      "source": [
        "# CS167: Day02 \n",
        "## 🐼 Pandas Tutorial\n",
        "\n",
        "#### CS167: Machine Learning, Spring 2023\n",
        "\n",
        "Tuesday, January 31st, 2023\n",
        "\n",
        "📆 [Course Schedule](https://docs.google.com/spreadsheets/d/e/2PACX-1vSvFV5Mz0_YZE1d5r3gQ8IMktE4cBAsJIlP30cl2GhEpSO0J-YWV62QokSDz-OcOCsEmxMuKpY0kVlR/pubhtml?gid=0&single=true) | 🙋[PollEverywhere](https://pollev.com/meredithmoore011) | 📜 [Syllabus](https://analytics.drake.edu/~moore/cs167_s23_syllabus.html)"
      ]
    },
    {
      "cell_type": "markdown",
      "metadata": {
        "id": "eWfinR20EGSZ"
      },
      "source": [
        "## Admin Stuff:\n",
        "\n",
        "You should be working on: \n",
        "- [Notebook #1](https://classroom.github.com/a/jykkzzRm) is released today, and will be due __on Tuesday 2/7 by 11:59pm__.\n",
        "\n",
        "Office Hours:\n",
        "- Monday and Wednesday: 2:00-3:30\n",
        "- Friday 10:00-12:00"
      ]
    },
    {
      "cell_type": "markdown",
      "metadata": {
        "id": "OrPfSSiuEGSa"
      },
      "source": [
        "## Overview of Day02:\n",
        "- Notebook #1 setup walkthrough\n",
        "- Pandas Tutorial\n",
        "- Exercises for Pandas"
      ]
    },
    {
      "cell_type": "markdown",
      "metadata": {
        "id": "MqFFZxCiEGSa"
      },
      "source": [
        "## PollEverywhere Review Question"
      ]
    },
    {
      "cell_type": "markdown",
      "metadata": {
        "id": "J0hWoZQbEGSb"
      },
      "source": [
        "## Demo of Setting up Notebook #1:\n",
        "\n",
        "1. Click on this [Notebook #1 Link](https://classroom.github.com/a/jykkzzRm)"
      ]
    },
    {
      "cell_type": "markdown",
      "metadata": {
        "id": "WhxrCXVlEGSb"
      },
      "source": [
        "2. Accept the Assignment\n",
        "\n",
        "<div>\n",
        "<img src=\"https://github.com/merriekay/S23-CS167-Notes/blob/main/images/day02_notebook1.png?raw=1\"/ width=600>\n",
        "</div>"
      ]
    },
    {
      "cell_type": "markdown",
      "metadata": {
        "id": "rXCe4GIqEGSc"
      },
      "source": [
        "3. Open your new repository, you may need to refresh the page\n",
        "\n",
        "<div>\n",
        "<img src=\"https://github.com/merriekay/S23-CS167-Notes/blob/main/images/day02_notebook1_2.png?raw=1\"/ width=600>\n",
        "</div>"
      ]
    },
    {
      "cell_type": "markdown",
      "metadata": {
        "id": "3JsiXiQqEGSc"
      },
      "source": [
        "3. Open your new repository, you may need to refresh the page\n",
        "\n",
        "<div>\n",
        "<img src=\"https://github.com/merriekay/S23-CS167-Notes/blob/main/images/day02_notebook1_3.png?raw=1\"/ width=600>\n",
        "</div>"
      ]
    },
    {
      "cell_type": "markdown",
      "metadata": {
        "id": "dOR95HSlEGSd"
      },
      "source": [
        "4. Click on the link\n",
        "5. Read the instructions in the README.md file\n",
        "6. Open the starter code and get to work.\n",
        "7. Once you've completed the assignment, go to 'file--> Save a copy in Github'\n",
        "\n",
        "> if you don't see the `s23-cs167/yourusername/Notebook1`, make sure that when you go into the Colab settings, (uppper right hand corner Gear), and you click on 'Github' from the sidebar menu, the checkbox to 'access private repositories' is checked. \n",
        "\n",
        "8. Submit the link to your repository to Blackboard. \n",
        "\n",
        "> Save your code to Github early and often for best results"
      ]
    },
    {
      "cell_type": "markdown",
      "metadata": {
        "id": "jb3_bPeUEGSe"
      },
      "source": [
        "# 🐼 Pandas\n",
        "__Pandas__ is a super powerful Python data analysis library. \n",
        "- it's built on top of another super powerful libray called `numpy`\n",
        "\n",
        "Using Google Colab, `pandas` should already be installed. If you see `In [*]` next to a cell, it means your computer is working on the task. "
      ]
    },
    {
      "cell_type": "code",
      "execution_count": null,
      "metadata": {
        "id": "6gqO0-S_EGSe"
      },
      "outputs": [],
      "source": [
        "#you should be able to run this without any issue.\n",
        "import pandas as pd\n",
        "\n",
        "# The first step is to mount your Google Drive to your Colab account. \n",
        "#You will be asked to authorize Colab to access your Google Drive. Follow the steps they lead you throuh.\n",
        "\n",
        "from google.colab import drive\n",
        "drive.mount('/content/drive')"
      ]
    },
    {
      "cell_type": "markdown",
      "metadata": {
        "id": "NoG5wAAYEGSg"
      },
      "source": [
        "## Overview of Pandas Tutorial\n",
        "\n",
        "Three main goals:\n",
        "1. __Overview__ of Pandas\n",
        "    - Datatypes `DataFrame` and `Series`\n",
        "    - helpful functions\n",
        "2. Select __columns__ in DataFrames\n",
        "3. Select __rows__ in DataFrames\n",
        "4. Select __subsets__ of the DataFrame (both rows and columns). "
      ]
    },
    {
      "cell_type": "markdown",
      "metadata": {
        "id": "OsT3BXk9EGSh"
      },
      "source": [
        "##  Pandas Datatypes: `DataFrame` and `Series`\n",
        "\n",
        "In `pandas`,there are two main datatypes, `DataFrame` and `Series`:"
      ]
    },
    {
      "cell_type": "markdown",
      "metadata": {
        "id": "mCEyIDpCEGSh"
      },
      "source": [
        "Let's start with `DataFrame` \n",
        "\n",
        "[Pandas Documentation](https://pandas.pydata.org/docs/reference/api/pandas.DataFrame.html) defines `DataFrames` as: \n",
        "> Two-dimensional, size-mutable, potentially heterogeneous tabular data.\n",
        "\n",
        "- basically, think of `DataFrames` as our excel sheets--two dimensional, tabular data.\n",
        "- Each column has a name, and you can use these names to filter and create subsets of data. \n",
        "- often, you'll see `DataFrames` abbreviated to `df`. "
      ]
    },
    {
      "cell_type": "markdown",
      "metadata": {
        "id": "zPvTPIA3EGSi"
      },
      "source": [
        "## Creating a DataFrame using `pd.read_csv()`:\n",
        "While you can create a DataFrame from scratch, most often we'll be importing data from a `.csv` file:\n",
        "- pandas has a helpful function for this: `pd.read_csv()`, which takes the path to the csv file as an argument [[documentation]](https://pandas.pydata.org/docs/reference/api/pandas.read_csv.html)"
      ]
    },
    {
      "cell_type": "code",
      "execution_count": null,
      "metadata": {
        "id": "NgLDrEv-EGSi",
        "outputId": "26818ee3-c7fe-463b-c428-5ed8cc6ad0a8"
      },
      "outputs": [
        {
          "name": "stdout",
          "output_type": "stream",
          "text": [
            "data is a  <class 'pandas.core.frame.DataFrame'>\n"
          ]
        }
      ],
      "source": [
        "#change this path to point to where your data is:\n",
        "# if you're using colab it should be something like: '/content/drive/MyDrive/CS167/datasets/restaurant.csv'\n",
        "import pandas as pd\n",
        "path = 'datasets/restaurant.csv'\n",
        "\n",
        "restaurant_data = pd.read_csv(path)\n",
        "print(\"data is a \", type(restaurant_data))"
      ]
    },
    {
      "cell_type": "markdown",
      "metadata": {
        "id": "ecFF-3utEGSj"
      },
      "source": [
        "## Other ways of creating DataFrames:\n",
        "The syntax for creating a DataFrame from scratch looks like this: \n",
        "- `pandas.DataFrame(data, index, columns)`\n"
      ]
    },
    {
      "cell_type": "code",
      "execution_count": null,
      "metadata": {
        "id": "PRsHtun_EGSl",
        "outputId": "dd66dbd4-e34a-4c22-bea2-8238c5d774c4"
      },
      "outputs": [
        {
          "data": {
            "text/html": [
              "<div>\n",
              "<style scoped>\n",
              "    .dataframe tbody tr th:only-of-type {\n",
              "        vertical-align: middle;\n",
              "    }\n",
              "\n",
              "    .dataframe tbody tr th {\n",
              "        vertical-align: top;\n",
              "    }\n",
              "\n",
              "    .dataframe thead th {\n",
              "        text-align: right;\n",
              "    }\n",
              "</style>\n",
              "<table border=\"1\" class=\"dataframe\">\n",
              "  <thead>\n",
              "    <tr style=\"text-align: right;\">\n",
              "      <th></th>\n",
              "    </tr>\n",
              "  </thead>\n",
              "  <tbody>\n",
              "  </tbody>\n",
              "</table>\n",
              "</div>"
            ],
            "text/plain": [
              "Empty DataFrame\n",
              "Columns: []\n",
              "Index: []"
            ]
          },
          "execution_count": 3,
          "metadata": {},
          "output_type": "execute_result"
        }
      ],
      "source": [
        "df = pd.DataFrame() #creates an empty dataframe\n",
        "df"
      ]
    },
    {
      "cell_type": "code",
      "execution_count": null,
      "metadata": {
        "id": "7vNMUbtrEGSm",
        "outputId": "8a656f20-8c90-4156-e6a7-0677840b6bfe"
      },
      "outputs": [
        {
          "data": {
            "text/html": [
              "<div>\n",
              "<style scoped>\n",
              "    .dataframe tbody tr th:only-of-type {\n",
              "        vertical-align: middle;\n",
              "    }\n",
              "\n",
              "    .dataframe tbody tr th {\n",
              "        vertical-align: top;\n",
              "    }\n",
              "\n",
              "    .dataframe thead th {\n",
              "        text-align: right;\n",
              "    }\n",
              "</style>\n",
              "<table border=\"1\" class=\"dataframe\">\n",
              "  <thead>\n",
              "    <tr style=\"text-align: right;\">\n",
              "      <th></th>\n",
              "      <th>Numbers</th>\n",
              "    </tr>\n",
              "  </thead>\n",
              "  <tbody>\n",
              "    <tr>\n",
              "      <th>0</th>\n",
              "      <td>10</td>\n",
              "    </tr>\n",
              "    <tr>\n",
              "      <th>1</th>\n",
              "      <td>20</td>\n",
              "    </tr>\n",
              "    <tr>\n",
              "      <th>2</th>\n",
              "      <td>30</td>\n",
              "    </tr>\n",
              "    <tr>\n",
              "      <th>3</th>\n",
              "      <td>40</td>\n",
              "    </tr>\n",
              "    <tr>\n",
              "      <th>4</th>\n",
              "      <td>50</td>\n",
              "    </tr>\n",
              "    <tr>\n",
              "      <th>5</th>\n",
              "      <td>60</td>\n",
              "    </tr>\n",
              "  </tbody>\n",
              "</table>\n",
              "</div>"
            ],
            "text/plain": [
              "   Numbers\n",
              "0       10\n",
              "1       20\n",
              "2       30\n",
              "3       40\n",
              "4       50\n",
              "5       60"
            ]
          },
          "execution_count": 4,
          "metadata": {},
          "output_type": "execute_result"
        }
      ],
      "source": [
        "# initialize list elements\n",
        "data = [10,20,30,40,50,60]\n",
        " \n",
        "# Create the pandas DataFrame with column name is provided explicitly\n",
        "df = pd.DataFrame(data, columns=['Numbers'])\n",
        " \n",
        "# print dataframe.\n",
        "df "
      ]
    },
    {
      "cell_type": "markdown",
      "metadata": {
        "id": "sP4W7bt6EGSn"
      },
      "source": [
        "## Creating DataFrame from 2D list:"
      ]
    },
    {
      "cell_type": "code",
      "execution_count": null,
      "metadata": {
        "id": "bKAijfL6EGSn",
        "outputId": "315c7ae0-f52d-4dba-fb8c-88d87e54fd40"
      },
      "outputs": [
        {
          "data": {
            "text/html": [
              "<div>\n",
              "<style scoped>\n",
              "    .dataframe tbody tr th:only-of-type {\n",
              "        vertical-align: middle;\n",
              "    }\n",
              "\n",
              "    .dataframe tbody tr th {\n",
              "        vertical-align: top;\n",
              "    }\n",
              "\n",
              "    .dataframe thead th {\n",
              "        text-align: right;\n",
              "    }\n",
              "</style>\n",
              "<table border=\"1\" class=\"dataframe\">\n",
              "  <thead>\n",
              "    <tr style=\"text-align: right;\">\n",
              "      <th></th>\n",
              "      <th>Name</th>\n",
              "      <th>Score</th>\n",
              "    </tr>\n",
              "  </thead>\n",
              "  <tbody>\n",
              "    <tr>\n",
              "      <th>0</th>\n",
              "      <td>tom</td>\n",
              "      <td>89</td>\n",
              "    </tr>\n",
              "    <tr>\n",
              "      <th>1</th>\n",
              "      <td>juan</td>\n",
              "      <td>99</td>\n",
              "    </tr>\n",
              "    <tr>\n",
              "      <th>2</th>\n",
              "      <td>juli</td>\n",
              "      <td>93</td>\n",
              "    </tr>\n",
              "  </tbody>\n",
              "</table>\n",
              "</div>"
            ],
            "text/plain": [
              "   Name  Score\n",
              "0   tom     89\n",
              "1  juan     99\n",
              "2  juli     93"
            ]
          },
          "execution_count": 6,
          "metadata": {},
          "output_type": "execute_result"
        }
      ],
      "source": [
        "# initialize list of lists\n",
        "data = [['tom', 89], ['juan', 99], ['juli', 93]]\n",
        " \n",
        "# Create the pandas DataFrame\n",
        "df = pd.DataFrame(data, columns=['Name', 'Score'])\n",
        " \n",
        "# print dataframe.\n",
        "df"
      ]
    },
    {
      "cell_type": "markdown",
      "metadata": {
        "id": "Gs1oNNRgEGSo"
      },
      "source": [
        "### 📣 Helpful Method Alert: `df.head()`\n",
        "\n",
        "The `.head()` method can be called on any DataFrame, and by default will display the first 5 lines rows of the data, as well as the names of the columns. \n",
        "- if you want it to display more than 5 rows, you can provide a number as an argument to the method.\n",
        "\n",
        "In IPython notebooks, whatever you leave at the end of a cell will automatically output.\n",
        "\n",
        "So, when you put those two facts together, you get this nifty functionality: "
      ]
    },
    {
      "cell_type": "code",
      "execution_count": null,
      "metadata": {
        "id": "8EEe26FlEGSo",
        "outputId": "abda29e6-1c08-4811-9f07-86cfd600684b"
      },
      "outputs": [
        {
          "data": {
            "text/html": [
              "<div>\n",
              "<style scoped>\n",
              "    .dataframe tbody tr th:only-of-type {\n",
              "        vertical-align: middle;\n",
              "    }\n",
              "\n",
              "    .dataframe tbody tr th {\n",
              "        vertical-align: top;\n",
              "    }\n",
              "\n",
              "    .dataframe thead th {\n",
              "        text-align: right;\n",
              "    }\n",
              "</style>\n",
              "<table border=\"1\" class=\"dataframe\">\n",
              "  <thead>\n",
              "    <tr style=\"text-align: right;\">\n",
              "      <th></th>\n",
              "      <th>alt</th>\n",
              "      <th>bar</th>\n",
              "      <th>fri</th>\n",
              "      <th>hun</th>\n",
              "      <th>pat</th>\n",
              "      <th>price</th>\n",
              "      <th>rain</th>\n",
              "      <th>res</th>\n",
              "      <th>type</th>\n",
              "      <th>est</th>\n",
              "      <th>target</th>\n",
              "    </tr>\n",
              "  </thead>\n",
              "  <tbody>\n",
              "    <tr>\n",
              "      <th>0</th>\n",
              "      <td>Yes</td>\n",
              "      <td>No</td>\n",
              "      <td>No</td>\n",
              "      <td>Yes</td>\n",
              "      <td>Some</td>\n",
              "      <td>$$$</td>\n",
              "      <td>No</td>\n",
              "      <td>Yes</td>\n",
              "      <td>French</td>\n",
              "      <td>0-10</td>\n",
              "      <td>Yes</td>\n",
              "    </tr>\n",
              "    <tr>\n",
              "      <th>1</th>\n",
              "      <td>Yes</td>\n",
              "      <td>No</td>\n",
              "      <td>No</td>\n",
              "      <td>Yes</td>\n",
              "      <td>Full</td>\n",
              "      <td>$</td>\n",
              "      <td>No</td>\n",
              "      <td>No</td>\n",
              "      <td>Thai</td>\n",
              "      <td>30-60</td>\n",
              "      <td>No</td>\n",
              "    </tr>\n",
              "    <tr>\n",
              "      <th>2</th>\n",
              "      <td>No</td>\n",
              "      <td>Yes</td>\n",
              "      <td>No</td>\n",
              "      <td>No</td>\n",
              "      <td>Some</td>\n",
              "      <td>$</td>\n",
              "      <td>No</td>\n",
              "      <td>No</td>\n",
              "      <td>Burger</td>\n",
              "      <td>0-10</td>\n",
              "      <td>Yes</td>\n",
              "    </tr>\n",
              "    <tr>\n",
              "      <th>3</th>\n",
              "      <td>Yes</td>\n",
              "      <td>No</td>\n",
              "      <td>Yes</td>\n",
              "      <td>Yes</td>\n",
              "      <td>Full</td>\n",
              "      <td>$</td>\n",
              "      <td>No</td>\n",
              "      <td>No</td>\n",
              "      <td>Thai</td>\n",
              "      <td>10-30</td>\n",
              "      <td>Yes</td>\n",
              "    </tr>\n",
              "    <tr>\n",
              "      <th>4</th>\n",
              "      <td>Yes</td>\n",
              "      <td>No</td>\n",
              "      <td>Yes</td>\n",
              "      <td>No</td>\n",
              "      <td>Full</td>\n",
              "      <td>$$$</td>\n",
              "      <td>No</td>\n",
              "      <td>Yes</td>\n",
              "      <td>French</td>\n",
              "      <td>&gt;60</td>\n",
              "      <td>No</td>\n",
              "    </tr>\n",
              "  </tbody>\n",
              "</table>\n",
              "</div>"
            ],
            "text/plain": [
              "   alt  bar  fri  hun   pat price rain  res    type    est target\n",
              "0  Yes   No   No  Yes  Some   $$$   No  Yes  French   0-10    Yes\n",
              "1  Yes   No   No  Yes  Full     $   No   No    Thai  30-60     No\n",
              "2   No  Yes   No   No  Some     $   No   No  Burger   0-10    Yes\n",
              "3  Yes   No  Yes  Yes  Full     $   No   No    Thai  10-30    Yes\n",
              "4  Yes   No  Yes   No  Full   $$$   No  Yes  French    >60     No"
            ]
          },
          "execution_count": 13,
          "metadata": {},
          "output_type": "execute_result"
        }
      ],
      "source": [
        "restaurant_data.head()"
      ]
    },
    {
      "cell_type": "markdown",
      "metadata": {
        "id": "iowqpjpkEGSo"
      },
      "source": [
        "### 📣 Helpful Attribute Alert: `df.shape`\n",
        "Want to know the dimensions of your DataFrame? Use `df.shape`"
      ]
    },
    {
      "cell_type": "code",
      "execution_count": null,
      "metadata": {
        "id": "wAA_6VOzEGSp",
        "outputId": "d5df05e6-4cdf-450b-96ab-431179c0fe3e"
      },
      "outputs": [
        {
          "data": {
            "text/plain": [
              "(12, 11)"
            ]
          },
          "execution_count": 20,
          "metadata": {},
          "output_type": "execute_result"
        }
      ],
      "source": [
        "restaurant_data.shape"
      ]
    },
    {
      "cell_type": "markdown",
      "metadata": {
        "id": "PJ-V4uFZEGSp"
      },
      "source": [
        "## Columns Names\n",
        "\n",
        "Want to see a list of all of the columns in your dataset? Try using `df.columns`"
      ]
    },
    {
      "cell_type": "code",
      "execution_count": null,
      "metadata": {
        "id": "J9KdIPBIEGSp",
        "outputId": "34150c78-2f7d-4327-efa7-3aea494c8d3e"
      },
      "outputs": [
        {
          "data": {
            "text/plain": [
              "Index(['alt', 'bar', 'fri', 'hun', 'pat', 'price', 'rain', 'res', 'type',\n",
              "       'est', 'target'],\n",
              "      dtype='object')"
            ]
          },
          "execution_count": 22,
          "metadata": {},
          "output_type": "execute_result"
        }
      ],
      "source": [
        "col = restaurant_data.columns\n",
        "col"
      ]
    },
    {
      "cell_type": "markdown",
      "metadata": {
        "id": "6y1AdqCjEGSq"
      },
      "source": [
        "If there are no spaces in the name of a column, you can also reference it using dot notation like so:"
      ]
    },
    {
      "cell_type": "code",
      "execution_count": null,
      "metadata": {
        "id": "By_Y48FfEGSq",
        "outputId": "f3c8e172-8bf5-4582-c9e7-b285cd9ce53e"
      },
      "outputs": [
        {
          "data": {
            "text/plain": [
              "0      No\n",
              "1      No\n",
              "2      No\n",
              "3     Yes\n",
              "4     Yes\n",
              "5      No\n",
              "6      No\n",
              "7      No\n",
              "8     Yes\n",
              "9     Yes\n",
              "10     No\n",
              "11    Yes\n",
              "Name: fri, dtype: object"
            ]
          },
          "execution_count": 32,
          "metadata": {},
          "output_type": "execute_result"
        }
      ],
      "source": [
        "restaurant_data.fri"
      ]
    },
    {
      "cell_type": "markdown",
      "metadata": {
        "id": "jh7R6tgLEGSr"
      },
      "source": [
        "## Selecting Rows in DataFrames using `loc` and `iloc`:\n",
        "Simply put:\n",
        "- `loc` gets DataFrame rows and columns by __labels/names__ \n",
        "- `iloc` gets DataFrame rows and columns by __index/position__"
      ]
    },
    {
      "cell_type": "code",
      "execution_count": null,
      "metadata": {
        "id": "fFUysvb4EGSr",
        "outputId": "566f1b1f-409a-49bc-be25-4b7a1c342d25"
      },
      "outputs": [
        {
          "data": {
            "text/html": [
              "<div>\n",
              "<style scoped>\n",
              "    .dataframe tbody tr th:only-of-type {\n",
              "        vertical-align: middle;\n",
              "    }\n",
              "\n",
              "    .dataframe tbody tr th {\n",
              "        vertical-align: top;\n",
              "    }\n",
              "\n",
              "    .dataframe thead th {\n",
              "        text-align: right;\n",
              "    }\n",
              "</style>\n",
              "<table border=\"1\" class=\"dataframe\">\n",
              "  <thead>\n",
              "    <tr style=\"text-align: right;\">\n",
              "      <th></th>\n",
              "      <th>survived</th>\n",
              "      <th>pclass</th>\n",
              "      <th>sex</th>\n",
              "      <th>age</th>\n",
              "      <th>sibsp</th>\n",
              "      <th>parch</th>\n",
              "      <th>fare</th>\n",
              "      <th>embarked</th>\n",
              "      <th>class</th>\n",
              "      <th>who</th>\n",
              "      <th>adult_male</th>\n",
              "      <th>deck</th>\n",
              "      <th>embark_town</th>\n",
              "      <th>alive</th>\n",
              "      <th>alone</th>\n",
              "    </tr>\n",
              "  </thead>\n",
              "  <tbody>\n",
              "    <tr>\n",
              "      <th>880</th>\n",
              "      <td>1</td>\n",
              "      <td>2</td>\n",
              "      <td>female</td>\n",
              "      <td>25.0</td>\n",
              "      <td>0</td>\n",
              "      <td>1</td>\n",
              "      <td>26.0000</td>\n",
              "      <td>S</td>\n",
              "      <td>Second</td>\n",
              "      <td>woman</td>\n",
              "      <td>False</td>\n",
              "      <td>NaN</td>\n",
              "      <td>Southampton</td>\n",
              "      <td>yes</td>\n",
              "      <td>False</td>\n",
              "    </tr>\n",
              "    <tr>\n",
              "      <th>881</th>\n",
              "      <td>0</td>\n",
              "      <td>3</td>\n",
              "      <td>male</td>\n",
              "      <td>33.0</td>\n",
              "      <td>0</td>\n",
              "      <td>0</td>\n",
              "      <td>7.8958</td>\n",
              "      <td>S</td>\n",
              "      <td>Third</td>\n",
              "      <td>man</td>\n",
              "      <td>True</td>\n",
              "      <td>NaN</td>\n",
              "      <td>Southampton</td>\n",
              "      <td>no</td>\n",
              "      <td>True</td>\n",
              "    </tr>\n",
              "    <tr>\n",
              "      <th>882</th>\n",
              "      <td>0</td>\n",
              "      <td>3</td>\n",
              "      <td>female</td>\n",
              "      <td>22.0</td>\n",
              "      <td>0</td>\n",
              "      <td>0</td>\n",
              "      <td>10.5167</td>\n",
              "      <td>S</td>\n",
              "      <td>Third</td>\n",
              "      <td>woman</td>\n",
              "      <td>False</td>\n",
              "      <td>NaN</td>\n",
              "      <td>Southampton</td>\n",
              "      <td>no</td>\n",
              "      <td>True</td>\n",
              "    </tr>\n",
              "    <tr>\n",
              "      <th>883</th>\n",
              "      <td>0</td>\n",
              "      <td>2</td>\n",
              "      <td>male</td>\n",
              "      <td>28.0</td>\n",
              "      <td>0</td>\n",
              "      <td>0</td>\n",
              "      <td>10.5000</td>\n",
              "      <td>S</td>\n",
              "      <td>Second</td>\n",
              "      <td>man</td>\n",
              "      <td>True</td>\n",
              "      <td>NaN</td>\n",
              "      <td>Southampton</td>\n",
              "      <td>no</td>\n",
              "      <td>True</td>\n",
              "    </tr>\n",
              "    <tr>\n",
              "      <th>884</th>\n",
              "      <td>0</td>\n",
              "      <td>3</td>\n",
              "      <td>male</td>\n",
              "      <td>25.0</td>\n",
              "      <td>0</td>\n",
              "      <td>0</td>\n",
              "      <td>7.0500</td>\n",
              "      <td>S</td>\n",
              "      <td>Third</td>\n",
              "      <td>man</td>\n",
              "      <td>True</td>\n",
              "      <td>NaN</td>\n",
              "      <td>Southampton</td>\n",
              "      <td>no</td>\n",
              "      <td>True</td>\n",
              "    </tr>\n",
              "    <tr>\n",
              "      <th>885</th>\n",
              "      <td>0</td>\n",
              "      <td>3</td>\n",
              "      <td>female</td>\n",
              "      <td>39.0</td>\n",
              "      <td>0</td>\n",
              "      <td>5</td>\n",
              "      <td>29.1250</td>\n",
              "      <td>Q</td>\n",
              "      <td>Third</td>\n",
              "      <td>woman</td>\n",
              "      <td>False</td>\n",
              "      <td>NaN</td>\n",
              "      <td>Queenstown</td>\n",
              "      <td>no</td>\n",
              "      <td>False</td>\n",
              "    </tr>\n",
              "    <tr>\n",
              "      <th>886</th>\n",
              "      <td>0</td>\n",
              "      <td>2</td>\n",
              "      <td>male</td>\n",
              "      <td>27.0</td>\n",
              "      <td>0</td>\n",
              "      <td>0</td>\n",
              "      <td>13.0000</td>\n",
              "      <td>S</td>\n",
              "      <td>Second</td>\n",
              "      <td>man</td>\n",
              "      <td>True</td>\n",
              "      <td>NaN</td>\n",
              "      <td>Southampton</td>\n",
              "      <td>no</td>\n",
              "      <td>True</td>\n",
              "    </tr>\n",
              "    <tr>\n",
              "      <th>887</th>\n",
              "      <td>1</td>\n",
              "      <td>1</td>\n",
              "      <td>female</td>\n",
              "      <td>19.0</td>\n",
              "      <td>0</td>\n",
              "      <td>0</td>\n",
              "      <td>30.0000</td>\n",
              "      <td>S</td>\n",
              "      <td>First</td>\n",
              "      <td>woman</td>\n",
              "      <td>False</td>\n",
              "      <td>B</td>\n",
              "      <td>Southampton</td>\n",
              "      <td>yes</td>\n",
              "      <td>True</td>\n",
              "    </tr>\n",
              "  </tbody>\n",
              "</table>\n",
              "</div>"
            ],
            "text/plain": [
              "     survived  pclass     sex   age  sibsp  parch     fare embarked   class  \\\n",
              "880         1       2  female  25.0      0      1  26.0000        S  Second   \n",
              "881         0       3    male  33.0      0      0   7.8958        S   Third   \n",
              "882         0       3  female  22.0      0      0  10.5167        S   Third   \n",
              "883         0       2    male  28.0      0      0  10.5000        S  Second   \n",
              "884         0       3    male  25.0      0      0   7.0500        S   Third   \n",
              "885         0       3  female  39.0      0      5  29.1250        Q   Third   \n",
              "886         0       2    male  27.0      0      0  13.0000        S  Second   \n",
              "887         1       1  female  19.0      0      0  30.0000        S   First   \n",
              "\n",
              "       who  adult_male deck  embark_town alive  alone  \n",
              "880  woman       False  NaN  Southampton   yes  False  \n",
              "881    man        True  NaN  Southampton    no   True  \n",
              "882  woman       False  NaN  Southampton    no   True  \n",
              "883    man        True  NaN  Southampton    no   True  \n",
              "884    man        True  NaN  Southampton    no   True  \n",
              "885  woman       False  NaN   Queenstown    no  False  \n",
              "886    man        True  NaN  Southampton    no   True  \n",
              "887  woman       False    B  Southampton   yes   True  "
            ]
          },
          "execution_count": 35,
          "metadata": {},
          "output_type": "execute_result"
        }
      ],
      "source": [
        "#change this path to point to where your data is:\n",
        "# if you're using colab it should be something like: '/content/drive/MyDrive/CS167/datasets/titanic.csv'\n",
        "path = 'datasets/titanic.csv'\n",
        "\n",
        "titanic = pd.read_csv(path)\n",
        "titanic.loc[880:887]"
      ]
    },
    {
      "cell_type": "code",
      "execution_count": null,
      "metadata": {
        "id": "4A1GsXrNEGSr"
      },
      "outputs": [],
      "source": [
        "titanic.loc[886];  ## 886 is really a \"name\", not a number\n",
        "titanic.iloc[886];  ## 886 is now a index number using iloc  "
      ]
    },
    {
      "cell_type": "markdown",
      "metadata": {
        "id": "B0vhrc_tEGSs"
      },
      "source": [
        "Let's take a subset of titanic and try to use `loc` and `iloc`: "
      ]
    },
    {
      "cell_type": "code",
      "execution_count": null,
      "metadata": {
        "id": "6XUBrL6fEGSs",
        "outputId": "8a02691a-cdb2-4cda-9ba0-621a1562c899"
      },
      "outputs": [
        {
          "data": {
            "text/html": [
              "<div>\n",
              "<style scoped>\n",
              "    .dataframe tbody tr th:only-of-type {\n",
              "        vertical-align: middle;\n",
              "    }\n",
              "\n",
              "    .dataframe tbody tr th {\n",
              "        vertical-align: top;\n",
              "    }\n",
              "\n",
              "    .dataframe thead th {\n",
              "        text-align: right;\n",
              "    }\n",
              "</style>\n",
              "<table border=\"1\" class=\"dataframe\">\n",
              "  <thead>\n",
              "    <tr style=\"text-align: right;\">\n",
              "      <th></th>\n",
              "      <th>survived</th>\n",
              "      <th>pclass</th>\n",
              "      <th>sex</th>\n",
              "      <th>age</th>\n",
              "      <th>sibsp</th>\n",
              "      <th>parch</th>\n",
              "      <th>fare</th>\n",
              "      <th>embarked</th>\n",
              "      <th>class</th>\n",
              "      <th>who</th>\n",
              "      <th>adult_male</th>\n",
              "      <th>deck</th>\n",
              "      <th>embark_town</th>\n",
              "      <th>alive</th>\n",
              "      <th>alone</th>\n",
              "    </tr>\n",
              "  </thead>\n",
              "  <tbody>\n",
              "    <tr>\n",
              "      <th>880</th>\n",
              "      <td>1</td>\n",
              "      <td>2</td>\n",
              "      <td>female</td>\n",
              "      <td>25.0</td>\n",
              "      <td>0</td>\n",
              "      <td>1</td>\n",
              "      <td>26.0000</td>\n",
              "      <td>S</td>\n",
              "      <td>Second</td>\n",
              "      <td>woman</td>\n",
              "      <td>False</td>\n",
              "      <td>NaN</td>\n",
              "      <td>Southampton</td>\n",
              "      <td>yes</td>\n",
              "      <td>False</td>\n",
              "    </tr>\n",
              "    <tr>\n",
              "      <th>881</th>\n",
              "      <td>0</td>\n",
              "      <td>3</td>\n",
              "      <td>male</td>\n",
              "      <td>33.0</td>\n",
              "      <td>0</td>\n",
              "      <td>0</td>\n",
              "      <td>7.8958</td>\n",
              "      <td>S</td>\n",
              "      <td>Third</td>\n",
              "      <td>man</td>\n",
              "      <td>True</td>\n",
              "      <td>NaN</td>\n",
              "      <td>Southampton</td>\n",
              "      <td>no</td>\n",
              "      <td>True</td>\n",
              "    </tr>\n",
              "    <tr>\n",
              "      <th>882</th>\n",
              "      <td>0</td>\n",
              "      <td>3</td>\n",
              "      <td>female</td>\n",
              "      <td>22.0</td>\n",
              "      <td>0</td>\n",
              "      <td>0</td>\n",
              "      <td>10.5167</td>\n",
              "      <td>S</td>\n",
              "      <td>Third</td>\n",
              "      <td>woman</td>\n",
              "      <td>False</td>\n",
              "      <td>NaN</td>\n",
              "      <td>Southampton</td>\n",
              "      <td>no</td>\n",
              "      <td>True</td>\n",
              "    </tr>\n",
              "    <tr>\n",
              "      <th>883</th>\n",
              "      <td>0</td>\n",
              "      <td>2</td>\n",
              "      <td>male</td>\n",
              "      <td>28.0</td>\n",
              "      <td>0</td>\n",
              "      <td>0</td>\n",
              "      <td>10.5000</td>\n",
              "      <td>S</td>\n",
              "      <td>Second</td>\n",
              "      <td>man</td>\n",
              "      <td>True</td>\n",
              "      <td>NaN</td>\n",
              "      <td>Southampton</td>\n",
              "      <td>no</td>\n",
              "      <td>True</td>\n",
              "    </tr>\n",
              "    <tr>\n",
              "      <th>884</th>\n",
              "      <td>0</td>\n",
              "      <td>3</td>\n",
              "      <td>male</td>\n",
              "      <td>25.0</td>\n",
              "      <td>0</td>\n",
              "      <td>0</td>\n",
              "      <td>7.0500</td>\n",
              "      <td>S</td>\n",
              "      <td>Third</td>\n",
              "      <td>man</td>\n",
              "      <td>True</td>\n",
              "      <td>NaN</td>\n",
              "      <td>Southampton</td>\n",
              "      <td>no</td>\n",
              "      <td>True</td>\n",
              "    </tr>\n",
              "  </tbody>\n",
              "</table>\n",
              "</div>"
            ],
            "text/plain": [
              "     survived  pclass     sex   age  sibsp  parch     fare embarked   class  \\\n",
              "880         1       2  female  25.0      0      1  26.0000        S  Second   \n",
              "881         0       3    male  33.0      0      0   7.8958        S   Third   \n",
              "882         0       3  female  22.0      0      0  10.5167        S   Third   \n",
              "883         0       2    male  28.0      0      0  10.5000        S  Second   \n",
              "884         0       3    male  25.0      0      0   7.0500        S   Third   \n",
              "\n",
              "       who  adult_male deck  embark_town alive  alone  \n",
              "880  woman       False  NaN  Southampton   yes  False  \n",
              "881    man        True  NaN  Southampton    no   True  \n",
              "882  woman       False  NaN  Southampton    no   True  \n",
              "883    man        True  NaN  Southampton    no   True  \n",
              "884    man        True  NaN  Southampton    no   True  "
            ]
          },
          "execution_count": 37,
          "metadata": {},
          "output_type": "execute_result"
        }
      ],
      "source": [
        "subset = titanic.loc[880:885]\n",
        "subset.head()"
      ]
    },
    {
      "cell_type": "code",
      "execution_count": null,
      "metadata": {
        "scrolled": false,
        "id": "A82tux0qEGSs",
        "outputId": "ebdf977d-37e7-4da3-d642-683b9d8bc8c3"
      },
      "outputs": [
        {
          "data": {
            "text/plain": [
              "survived                 1\n",
              "pclass                   2\n",
              "sex                 female\n",
              "age                     25\n",
              "sibsp                    0\n",
              "parch                    1\n",
              "fare                    26\n",
              "embarked                 S\n",
              "class               Second\n",
              "who                  woman\n",
              "adult_male           False\n",
              "deck                   NaN\n",
              "embark_town    Southampton\n",
              "alive                  yes\n",
              "alone                False\n",
              "Name: 880, dtype: object"
            ]
          },
          "execution_count": 40,
          "metadata": {},
          "output_type": "execute_result"
        }
      ],
      "source": [
        "#subset.loc[880] #works\n",
        "subset.iloc[0]  #broken.... how would you fix it?"
      ]
    },
    {
      "cell_type": "markdown",
      "metadata": {
        "id": "8gq6XsYQEGSs"
      },
      "source": [
        "## Pandas Datatypes: `Series`\n",
        "- `Series` are 1D arrays with axis labels. \n",
        "    - Each __row__ in a DataFrame is a `Series`.\n",
        "    - Each __column__ in a DataFrame is also a `Series`."
      ]
    },
    {
      "cell_type": "code",
      "execution_count": null,
      "metadata": {
        "id": "ZqI9sBvhEGSt",
        "outputId": "727249ca-a6d3-4118-996c-4bbd0662e30c"
      },
      "outputs": [
        {
          "name": "stdout",
          "output_type": "stream",
          "text": [
            "<class 'pandas.core.series.Series'>\n",
            "<class 'pandas.core.series.Series'>\n"
          ]
        }
      ],
      "source": [
        "print(type(restaurant_data.iloc[0])) #the first row in the dataframe\n",
        "print(type(restaurant_data['type'])) #the column 'type' from the dataframe"
      ]
    },
    {
      "cell_type": "markdown",
      "metadata": {
        "id": "u0pUkycuEGSt"
      },
      "source": [
        "# PollEverywhere Concept Check"
      ]
    },
    {
      "cell_type": "markdown",
      "metadata": {
        "id": "M9YxUKGSEGSt"
      },
      "source": [
        "# Subsetting Columns\n",
        "<div>\n",
        "<img src=\"https://github.com/merriekay/S23-CS167-Notes/blob/main/images/day02_subset_cols.png?raw=1\"/ width=600>\n",
        "</div>\n",
        "\n",
        "Why might we want a subset of the columns of a DataFrame?"
      ]
    },
    {
      "cell_type": "markdown",
      "metadata": {
        "id": "H3-16sLXEGSt"
      },
      "source": [
        "Sometimes you don't need all of the columns and just want to work with a __subset__ of the colummns of the original dataset. Other times, you may want to reorder the columns in your dataset.\n",
        "\n",
        "Here's how you would do either of those: \n",
        "The syntax for subsetting columns from a DataFrame (`df`) is:\n",
        "- One column: `df['column_name']`\n",
        "- Multiple columns: `df[['column1', 'column2', 'target']]`"
      ]
    },
    {
      "cell_type": "markdown",
      "metadata": {
        "id": "K_Ka8FoyEGSt"
      },
      "source": [
        "So, if we wanted to look at the `price` column, we could do: "
      ]
    },
    {
      "cell_type": "code",
      "execution_count": null,
      "metadata": {
        "id": "-4_DIOsOEGSu",
        "outputId": "a770e310-d1ae-4c63-ae55-2901c47d0c69"
      },
      "outputs": [
        {
          "data": {
            "text/html": [
              "<div>\n",
              "<style scoped>\n",
              "    .dataframe tbody tr th:only-of-type {\n",
              "        vertical-align: middle;\n",
              "    }\n",
              "\n",
              "    .dataframe tbody tr th {\n",
              "        vertical-align: top;\n",
              "    }\n",
              "\n",
              "    .dataframe thead th {\n",
              "        text-align: right;\n",
              "    }\n",
              "</style>\n",
              "<table border=\"1\" class=\"dataframe\">\n",
              "  <thead>\n",
              "    <tr style=\"text-align: right;\">\n",
              "      <th></th>\n",
              "      <th>alt</th>\n",
              "      <th>bar</th>\n",
              "      <th>fri</th>\n",
              "      <th>hun</th>\n",
              "      <th>pat</th>\n",
              "      <th>price</th>\n",
              "      <th>rain</th>\n",
              "      <th>res</th>\n",
              "      <th>type</th>\n",
              "      <th>est</th>\n",
              "      <th>target</th>\n",
              "    </tr>\n",
              "  </thead>\n",
              "  <tbody>\n",
              "    <tr>\n",
              "      <th>0</th>\n",
              "      <td>Yes</td>\n",
              "      <td>No</td>\n",
              "      <td>No</td>\n",
              "      <td>Yes</td>\n",
              "      <td>Some</td>\n",
              "      <td>$$$</td>\n",
              "      <td>No</td>\n",
              "      <td>Yes</td>\n",
              "      <td>French</td>\n",
              "      <td>0-10</td>\n",
              "      <td>Yes</td>\n",
              "    </tr>\n",
              "    <tr>\n",
              "      <th>1</th>\n",
              "      <td>Yes</td>\n",
              "      <td>No</td>\n",
              "      <td>No</td>\n",
              "      <td>Yes</td>\n",
              "      <td>Full</td>\n",
              "      <td>$</td>\n",
              "      <td>No</td>\n",
              "      <td>No</td>\n",
              "      <td>Thai</td>\n",
              "      <td>30-60</td>\n",
              "      <td>No</td>\n",
              "    </tr>\n",
              "    <tr>\n",
              "      <th>2</th>\n",
              "      <td>No</td>\n",
              "      <td>Yes</td>\n",
              "      <td>No</td>\n",
              "      <td>No</td>\n",
              "      <td>Some</td>\n",
              "      <td>$</td>\n",
              "      <td>No</td>\n",
              "      <td>No</td>\n",
              "      <td>Burger</td>\n",
              "      <td>0-10</td>\n",
              "      <td>Yes</td>\n",
              "    </tr>\n",
              "    <tr>\n",
              "      <th>3</th>\n",
              "      <td>Yes</td>\n",
              "      <td>No</td>\n",
              "      <td>Yes</td>\n",
              "      <td>Yes</td>\n",
              "      <td>Full</td>\n",
              "      <td>$</td>\n",
              "      <td>No</td>\n",
              "      <td>No</td>\n",
              "      <td>Thai</td>\n",
              "      <td>10-30</td>\n",
              "      <td>Yes</td>\n",
              "    </tr>\n",
              "    <tr>\n",
              "      <th>4</th>\n",
              "      <td>Yes</td>\n",
              "      <td>No</td>\n",
              "      <td>Yes</td>\n",
              "      <td>No</td>\n",
              "      <td>Full</td>\n",
              "      <td>$$$</td>\n",
              "      <td>No</td>\n",
              "      <td>Yes</td>\n",
              "      <td>French</td>\n",
              "      <td>&gt;60</td>\n",
              "      <td>No</td>\n",
              "    </tr>\n",
              "  </tbody>\n",
              "</table>\n",
              "</div>"
            ],
            "text/plain": [
              "   alt  bar  fri  hun   pat price rain  res    type    est target\n",
              "0  Yes   No   No  Yes  Some   $$$   No  Yes  French   0-10    Yes\n",
              "1  Yes   No   No  Yes  Full     $   No   No    Thai  30-60     No\n",
              "2   No  Yes   No   No  Some     $   No   No  Burger   0-10    Yes\n",
              "3  Yes   No  Yes  Yes  Full     $   No   No    Thai  10-30    Yes\n",
              "4  Yes   No  Yes   No  Full   $$$   No  Yes  French    >60     No"
            ]
          },
          "execution_count": 42,
          "metadata": {},
          "output_type": "execute_result"
        }
      ],
      "source": [
        "restaurant_data.head()"
      ]
    },
    {
      "cell_type": "code",
      "execution_count": null,
      "metadata": {
        "id": "Ugjpy6MrEGSu",
        "outputId": "53a46151-dac6-4de9-fed3-04cf8dead4d2"
      },
      "outputs": [
        {
          "data": {
            "text/html": [
              "<div>\n",
              "<style scoped>\n",
              "    .dataframe tbody tr th:only-of-type {\n",
              "        vertical-align: middle;\n",
              "    }\n",
              "\n",
              "    .dataframe tbody tr th {\n",
              "        vertical-align: top;\n",
              "    }\n",
              "\n",
              "    .dataframe thead th {\n",
              "        text-align: right;\n",
              "    }\n",
              "</style>\n",
              "<table border=\"1\" class=\"dataframe\">\n",
              "  <thead>\n",
              "    <tr style=\"text-align: right;\">\n",
              "      <th></th>\n",
              "      <th>est</th>\n",
              "      <th>price</th>\n",
              "      <th>target</th>\n",
              "    </tr>\n",
              "  </thead>\n",
              "  <tbody>\n",
              "    <tr>\n",
              "      <th>0</th>\n",
              "      <td>0-10</td>\n",
              "      <td>$$$</td>\n",
              "      <td>Yes</td>\n",
              "    </tr>\n",
              "    <tr>\n",
              "      <th>1</th>\n",
              "      <td>30-60</td>\n",
              "      <td>$</td>\n",
              "      <td>No</td>\n",
              "    </tr>\n",
              "    <tr>\n",
              "      <th>2</th>\n",
              "      <td>0-10</td>\n",
              "      <td>$</td>\n",
              "      <td>Yes</td>\n",
              "    </tr>\n",
              "    <tr>\n",
              "      <th>3</th>\n",
              "      <td>10-30</td>\n",
              "      <td>$</td>\n",
              "      <td>Yes</td>\n",
              "    </tr>\n",
              "    <tr>\n",
              "      <th>4</th>\n",
              "      <td>&gt;60</td>\n",
              "      <td>$$$</td>\n",
              "      <td>No</td>\n",
              "    </tr>\n",
              "    <tr>\n",
              "      <th>5</th>\n",
              "      <td>0-10</td>\n",
              "      <td>$$</td>\n",
              "      <td>Yes</td>\n",
              "    </tr>\n",
              "    <tr>\n",
              "      <th>6</th>\n",
              "      <td>0-10</td>\n",
              "      <td>$</td>\n",
              "      <td>No</td>\n",
              "    </tr>\n",
              "    <tr>\n",
              "      <th>7</th>\n",
              "      <td>0-10</td>\n",
              "      <td>$$</td>\n",
              "      <td>Yes</td>\n",
              "    </tr>\n",
              "    <tr>\n",
              "      <th>8</th>\n",
              "      <td>&gt;60</td>\n",
              "      <td>$</td>\n",
              "      <td>No</td>\n",
              "    </tr>\n",
              "    <tr>\n",
              "      <th>9</th>\n",
              "      <td>10-30</td>\n",
              "      <td>$$$</td>\n",
              "      <td>No</td>\n",
              "    </tr>\n",
              "    <tr>\n",
              "      <th>10</th>\n",
              "      <td>0-10</td>\n",
              "      <td>$</td>\n",
              "      <td>No</td>\n",
              "    </tr>\n",
              "    <tr>\n",
              "      <th>11</th>\n",
              "      <td>30-60</td>\n",
              "      <td>$</td>\n",
              "      <td>Yes</td>\n",
              "    </tr>\n",
              "  </tbody>\n",
              "</table>\n",
              "</div>"
            ],
            "text/plain": [
              "      est price target\n",
              "0    0-10   $$$    Yes\n",
              "1   30-60     $     No\n",
              "2    0-10     $    Yes\n",
              "3   10-30     $    Yes\n",
              "4     >60   $$$     No\n",
              "5    0-10    $$    Yes\n",
              "6    0-10     $     No\n",
              "7    0-10    $$    Yes\n",
              "8     >60     $     No\n",
              "9   10-30   $$$     No\n",
              "10   0-10     $     No\n",
              "11  30-60     $    Yes"
            ]
          },
          "execution_count": 45,
          "metadata": {},
          "output_type": "execute_result"
        }
      ],
      "source": [
        "prices = restaurant_data[[ 'est','price','target']]\n",
        "prices"
      ]
    },
    {
      "cell_type": "markdown",
      "metadata": {
        "id": "P5pcmGMIEGSv"
      },
      "source": [
        "Imagine you want to only work with `'rain'`, `'hun'`, and `'target'`:"
      ]
    },
    {
      "cell_type": "code",
      "execution_count": null,
      "metadata": {
        "id": "VB6L2az0EGSv",
        "outputId": "4d1f21ff-4691-41a5-9c3c-9e683740dc21"
      },
      "outputs": [
        {
          "data": {
            "text/html": [
              "<div>\n",
              "<style scoped>\n",
              "    .dataframe tbody tr th:only-of-type {\n",
              "        vertical-align: middle;\n",
              "    }\n",
              "\n",
              "    .dataframe tbody tr th {\n",
              "        vertical-align: top;\n",
              "    }\n",
              "\n",
              "    .dataframe thead th {\n",
              "        text-align: right;\n",
              "    }\n",
              "</style>\n",
              "<table border=\"1\" class=\"dataframe\">\n",
              "  <thead>\n",
              "    <tr style=\"text-align: right;\">\n",
              "      <th></th>\n",
              "      <th>rain</th>\n",
              "      <th>hun</th>\n",
              "      <th>target</th>\n",
              "    </tr>\n",
              "  </thead>\n",
              "  <tbody>\n",
              "    <tr>\n",
              "      <th>0</th>\n",
              "      <td>No</td>\n",
              "      <td>Yes</td>\n",
              "      <td>Yes</td>\n",
              "    </tr>\n",
              "    <tr>\n",
              "      <th>1</th>\n",
              "      <td>No</td>\n",
              "      <td>Yes</td>\n",
              "      <td>No</td>\n",
              "    </tr>\n",
              "    <tr>\n",
              "      <th>2</th>\n",
              "      <td>No</td>\n",
              "      <td>No</td>\n",
              "      <td>Yes</td>\n",
              "    </tr>\n",
              "    <tr>\n",
              "      <th>3</th>\n",
              "      <td>No</td>\n",
              "      <td>Yes</td>\n",
              "      <td>Yes</td>\n",
              "    </tr>\n",
              "    <tr>\n",
              "      <th>4</th>\n",
              "      <td>No</td>\n",
              "      <td>No</td>\n",
              "      <td>No</td>\n",
              "    </tr>\n",
              "    <tr>\n",
              "      <th>5</th>\n",
              "      <td>Yes</td>\n",
              "      <td>Yes</td>\n",
              "      <td>Yes</td>\n",
              "    </tr>\n",
              "    <tr>\n",
              "      <th>6</th>\n",
              "      <td>Yes</td>\n",
              "      <td>No</td>\n",
              "      <td>No</td>\n",
              "    </tr>\n",
              "    <tr>\n",
              "      <th>7</th>\n",
              "      <td>Yes</td>\n",
              "      <td>Yes</td>\n",
              "      <td>Yes</td>\n",
              "    </tr>\n",
              "    <tr>\n",
              "      <th>8</th>\n",
              "      <td>Yes</td>\n",
              "      <td>No</td>\n",
              "      <td>No</td>\n",
              "    </tr>\n",
              "    <tr>\n",
              "      <th>9</th>\n",
              "      <td>No</td>\n",
              "      <td>Yes</td>\n",
              "      <td>No</td>\n",
              "    </tr>\n",
              "    <tr>\n",
              "      <th>10</th>\n",
              "      <td>No</td>\n",
              "      <td>No</td>\n",
              "      <td>No</td>\n",
              "    </tr>\n",
              "    <tr>\n",
              "      <th>11</th>\n",
              "      <td>No</td>\n",
              "      <td>Yes</td>\n",
              "      <td>Yes</td>\n",
              "    </tr>\n",
              "  </tbody>\n",
              "</table>\n",
              "</div>"
            ],
            "text/plain": [
              "   rain  hun target\n",
              "0    No  Yes    Yes\n",
              "1    No  Yes     No\n",
              "2    No   No    Yes\n",
              "3    No  Yes    Yes\n",
              "4    No   No     No\n",
              "5   Yes  Yes    Yes\n",
              "6   Yes   No     No\n",
              "7   Yes  Yes    Yes\n",
              "8   Yes   No     No\n",
              "9    No  Yes     No\n",
              "10   No   No     No\n",
              "11   No  Yes    Yes"
            ]
          },
          "execution_count": 48,
          "metadata": {},
          "output_type": "execute_result"
        }
      ],
      "source": [
        "col_subset = restaurant_data[['rain', 'hun', 'target']]\n",
        "col_subset.head()"
      ]
    },
    {
      "cell_type": "markdown",
      "metadata": {
        "id": "EwoxU_h1EGSv"
      },
      "source": [
        "Maybe you want to re-order your new subset so that `rain` and `hun` are switched:"
      ]
    },
    {
      "cell_type": "code",
      "execution_count": null,
      "metadata": {
        "id": "T386Ew6tEGSv",
        "outputId": "61df905f-65e8-4c62-f1b4-53a9a74d35a8"
      },
      "outputs": [
        {
          "data": {
            "text/html": [
              "<div>\n",
              "<style scoped>\n",
              "    .dataframe tbody tr th:only-of-type {\n",
              "        vertical-align: middle;\n",
              "    }\n",
              "\n",
              "    .dataframe tbody tr th {\n",
              "        vertical-align: top;\n",
              "    }\n",
              "\n",
              "    .dataframe thead th {\n",
              "        text-align: right;\n",
              "    }\n",
              "</style>\n",
              "<table border=\"1\" class=\"dataframe\">\n",
              "  <thead>\n",
              "    <tr style=\"text-align: right;\">\n",
              "      <th></th>\n",
              "      <th>hun</th>\n",
              "      <th>rain</th>\n",
              "      <th>target</th>\n",
              "    </tr>\n",
              "  </thead>\n",
              "  <tbody>\n",
              "    <tr>\n",
              "      <th>0</th>\n",
              "      <td>Yes</td>\n",
              "      <td>No</td>\n",
              "      <td>Yes</td>\n",
              "    </tr>\n",
              "    <tr>\n",
              "      <th>1</th>\n",
              "      <td>Yes</td>\n",
              "      <td>No</td>\n",
              "      <td>No</td>\n",
              "    </tr>\n",
              "    <tr>\n",
              "      <th>2</th>\n",
              "      <td>No</td>\n",
              "      <td>No</td>\n",
              "      <td>Yes</td>\n",
              "    </tr>\n",
              "    <tr>\n",
              "      <th>3</th>\n",
              "      <td>Yes</td>\n",
              "      <td>No</td>\n",
              "      <td>Yes</td>\n",
              "    </tr>\n",
              "    <tr>\n",
              "      <th>4</th>\n",
              "      <td>No</td>\n",
              "      <td>No</td>\n",
              "      <td>No</td>\n",
              "    </tr>\n",
              "  </tbody>\n",
              "</table>\n",
              "</div>"
            ],
            "text/plain": [
              "   hun rain target\n",
              "0  Yes   No    Yes\n",
              "1  Yes   No     No\n",
              "2   No   No    Yes\n",
              "3  Yes   No    Yes\n",
              "4   No   No     No"
            ]
          },
          "execution_count": 49,
          "metadata": {},
          "output_type": "execute_result"
        }
      ],
      "source": [
        "reordered = col_subset[['hun', 'rain', 'target']]\n",
        "reordered.head()"
      ]
    },
    {
      "cell_type": "markdown",
      "metadata": {
        "id": "t8EovslIEGSv"
      },
      "source": [
        "# PollEverywhere Concept Check"
      ]
    },
    {
      "cell_type": "markdown",
      "metadata": {
        "id": "_yeBcA7REGSw"
      },
      "source": [
        "## 💬 Group Exercise: \n",
        "\n",
        "Download the Titanic Dataset from Blackboard, upload it to a spot in your GoogleDrive, and see if you can make the following subsets: \n",
        "- make a subset called `ages` that holds the ages of the passengers on the titanic\n",
        "- create a subset called `titanic_subset` with the columns `survived`, `deck`, `sex`, and `age`, in that order."
      ]
    },
    {
      "cell_type": "code",
      "execution_count": null,
      "metadata": {
        "id": "0KNGA9p0EGSw"
      },
      "outputs": [],
      "source": []
    },
    {
      "cell_type": "markdown",
      "metadata": {
        "id": "AYa1zNNiEGSw"
      },
      "source": [
        "## Subsetting Rows in a DataFrame:\n",
        "<div>\n",
        "<img src=\"https://github.com/merriekay/S23-CS167-Notes/blob/main/images/day02_subset_rows.png?raw=1\"/ width=600>\n",
        "</div>\n",
        "Why might you want a subset of the rows?"
      ]
    },
    {
      "cell_type": "markdown",
      "metadata": {
        "id": "eyMcoAVKEGSw"
      },
      "source": [
        "Maybe you want only rows that satisfy a certain condition--in the restaurant dataset, maybe:\n",
        "- Italian Restaurants\n",
        "- only examples when it didn't rain\n",
        "- etc. "
      ]
    },
    {
      "cell_type": "markdown",
      "metadata": {
        "id": "YAi-ilvuEGSw"
      },
      "source": [
        "To understand the syntax for subsetting rows in a DataFrame, we need to understand how conditionals work in Python/Pandas:\n",
        "- to check whether each row in a dataframe meets a criteria, you can use the following syntax\n",
        "- it will return a `Series` with `True`/`False`, where rows that are `True` meet the criteria, and `False` do not. "
      ]
    },
    {
      "cell_type": "code",
      "execution_count": null,
      "metadata": {
        "id": "x3NwbcWiEGSw",
        "outputId": "0ffcccbf-b28b-4609-80ee-297aad0eee9a"
      },
      "outputs": [
        {
          "data": {
            "text/plain": [
              "0      True\n",
              "1     False\n",
              "2     False\n",
              "3     False\n",
              "4      True\n",
              "5     False\n",
              "6     False\n",
              "7     False\n",
              "8     False\n",
              "9     False\n",
              "10    False\n",
              "11    False\n",
              "Name: type, dtype: bool"
            ]
          },
          "execution_count": 52,
          "metadata": {},
          "output_type": "execute_result"
        }
      ],
      "source": [
        "restaurant_data['type'] == 'French'\n",
        "#restaurant_data.head()"
      ]
    },
    {
      "cell_type": "markdown",
      "metadata": {
        "id": "dBrR_z5pEGSx"
      },
      "source": [
        "Taking this one step further, we can use this boolean Series to filter our rows: \n",
        "- `subset_rows = df[df['column name'] == 'something']`"
      ]
    },
    {
      "cell_type": "code",
      "execution_count": null,
      "metadata": {
        "id": "QEpF2Mx2EGSx",
        "outputId": "411c0107-6e82-46d1-d03b-971ae68f69ba"
      },
      "outputs": [
        {
          "data": {
            "text/html": [
              "<div>\n",
              "<style scoped>\n",
              "    .dataframe tbody tr th:only-of-type {\n",
              "        vertical-align: middle;\n",
              "    }\n",
              "\n",
              "    .dataframe tbody tr th {\n",
              "        vertical-align: top;\n",
              "    }\n",
              "\n",
              "    .dataframe thead th {\n",
              "        text-align: right;\n",
              "    }\n",
              "</style>\n",
              "<table border=\"1\" class=\"dataframe\">\n",
              "  <thead>\n",
              "    <tr style=\"text-align: right;\">\n",
              "      <th></th>\n",
              "      <th>alt</th>\n",
              "      <th>bar</th>\n",
              "      <th>fri</th>\n",
              "      <th>hun</th>\n",
              "      <th>pat</th>\n",
              "      <th>price</th>\n",
              "      <th>rain</th>\n",
              "      <th>res</th>\n",
              "      <th>type</th>\n",
              "      <th>est</th>\n",
              "      <th>target</th>\n",
              "    </tr>\n",
              "  </thead>\n",
              "  <tbody>\n",
              "    <tr>\n",
              "      <th>1</th>\n",
              "      <td>Yes</td>\n",
              "      <td>No</td>\n",
              "      <td>No</td>\n",
              "      <td>Yes</td>\n",
              "      <td>Full</td>\n",
              "      <td>$</td>\n",
              "      <td>No</td>\n",
              "      <td>No</td>\n",
              "      <td>Thai</td>\n",
              "      <td>30-60</td>\n",
              "      <td>No</td>\n",
              "    </tr>\n",
              "    <tr>\n",
              "      <th>4</th>\n",
              "      <td>Yes</td>\n",
              "      <td>No</td>\n",
              "      <td>Yes</td>\n",
              "      <td>No</td>\n",
              "      <td>Full</td>\n",
              "      <td>$$$</td>\n",
              "      <td>No</td>\n",
              "      <td>Yes</td>\n",
              "      <td>French</td>\n",
              "      <td>&gt;60</td>\n",
              "      <td>No</td>\n",
              "    </tr>\n",
              "    <tr>\n",
              "      <th>6</th>\n",
              "      <td>No</td>\n",
              "      <td>Yes</td>\n",
              "      <td>No</td>\n",
              "      <td>No</td>\n",
              "      <td>None</td>\n",
              "      <td>$</td>\n",
              "      <td>Yes</td>\n",
              "      <td>No</td>\n",
              "      <td>Burger</td>\n",
              "      <td>0-10</td>\n",
              "      <td>No</td>\n",
              "    </tr>\n",
              "    <tr>\n",
              "      <th>8</th>\n",
              "      <td>No</td>\n",
              "      <td>Yes</td>\n",
              "      <td>Yes</td>\n",
              "      <td>No</td>\n",
              "      <td>Full</td>\n",
              "      <td>$</td>\n",
              "      <td>Yes</td>\n",
              "      <td>No</td>\n",
              "      <td>Burger</td>\n",
              "      <td>&gt;60</td>\n",
              "      <td>No</td>\n",
              "    </tr>\n",
              "    <tr>\n",
              "      <th>9</th>\n",
              "      <td>Yes</td>\n",
              "      <td>Yes</td>\n",
              "      <td>Yes</td>\n",
              "      <td>Yes</td>\n",
              "      <td>Full</td>\n",
              "      <td>$$$</td>\n",
              "      <td>No</td>\n",
              "      <td>Yes</td>\n",
              "      <td>Italian</td>\n",
              "      <td>10-30</td>\n",
              "      <td>No</td>\n",
              "    </tr>\n",
              "    <tr>\n",
              "      <th>10</th>\n",
              "      <td>No</td>\n",
              "      <td>No</td>\n",
              "      <td>No</td>\n",
              "      <td>No</td>\n",
              "      <td>None</td>\n",
              "      <td>$</td>\n",
              "      <td>No</td>\n",
              "      <td>No</td>\n",
              "      <td>Thai</td>\n",
              "      <td>0-10</td>\n",
              "      <td>No</td>\n",
              "    </tr>\n",
              "  </tbody>\n",
              "</table>\n",
              "</div>"
            ],
            "text/plain": [
              "    alt  bar  fri  hun   pat price rain  res     type    est target\n",
              "1   Yes   No   No  Yes  Full     $   No   No     Thai  30-60     No\n",
              "4   Yes   No  Yes   No  Full   $$$   No  Yes   French    >60     No\n",
              "6    No  Yes   No   No  None     $  Yes   No   Burger   0-10     No\n",
              "8    No  Yes  Yes   No  Full     $  Yes   No   Burger    >60     No\n",
              "9   Yes  Yes  Yes  Yes  Full   $$$   No  Yes  Italian  10-30     No\n",
              "10   No   No   No   No  None     $   No   No     Thai   0-10     No"
            ]
          },
          "execution_count": 54,
          "metadata": {},
          "output_type": "execute_result"
        }
      ],
      "source": [
        "# the conditional from a few slides ago was:\n",
        "condition = restaurant_data['target'] == 'No'\n",
        "\n",
        "italian_rest = restaurant_data[condition]\n",
        "italian_rest "
      ]
    },
    {
      "cell_type": "code",
      "execution_count": null,
      "metadata": {
        "id": "RejIsI2pEGSx",
        "outputId": "6b444f17-dbaf-4858-c36b-aa5c23abaffe"
      },
      "outputs": [
        {
          "data": {
            "text/html": [
              "<div>\n",
              "<style scoped>\n",
              "    .dataframe tbody tr th:only-of-type {\n",
              "        vertical-align: middle;\n",
              "    }\n",
              "\n",
              "    .dataframe tbody tr th {\n",
              "        vertical-align: top;\n",
              "    }\n",
              "\n",
              "    .dataframe thead th {\n",
              "        text-align: right;\n",
              "    }\n",
              "</style>\n",
              "<table border=\"1\" class=\"dataframe\">\n",
              "  <thead>\n",
              "    <tr style=\"text-align: right;\">\n",
              "      <th></th>\n",
              "      <th>alt</th>\n",
              "      <th>bar</th>\n",
              "      <th>fri</th>\n",
              "      <th>hun</th>\n",
              "      <th>pat</th>\n",
              "      <th>price</th>\n",
              "      <th>rain</th>\n",
              "      <th>res</th>\n",
              "      <th>type</th>\n",
              "      <th>est</th>\n",
              "      <th>target</th>\n",
              "    </tr>\n",
              "  </thead>\n",
              "  <tbody>\n",
              "    <tr>\n",
              "      <th>5</th>\n",
              "      <td>No</td>\n",
              "      <td>Yes</td>\n",
              "      <td>No</td>\n",
              "      <td>Yes</td>\n",
              "      <td>Some</td>\n",
              "      <td>$$</td>\n",
              "      <td>Yes</td>\n",
              "      <td>Yes</td>\n",
              "      <td>Italian</td>\n",
              "      <td>0-10</td>\n",
              "      <td>Yes</td>\n",
              "    </tr>\n",
              "    <tr>\n",
              "      <th>9</th>\n",
              "      <td>Yes</td>\n",
              "      <td>Yes</td>\n",
              "      <td>Yes</td>\n",
              "      <td>Yes</td>\n",
              "      <td>Full</td>\n",
              "      <td>$$$</td>\n",
              "      <td>No</td>\n",
              "      <td>Yes</td>\n",
              "      <td>Italian</td>\n",
              "      <td>10-30</td>\n",
              "      <td>No</td>\n",
              "    </tr>\n",
              "  </tbody>\n",
              "</table>\n",
              "</div>"
            ],
            "text/plain": [
              "   alt  bar  fri  hun   pat price rain  res     type    est target\n",
              "5   No  Yes   No  Yes  Some    $$  Yes  Yes  Italian   0-10    Yes\n",
              "9  Yes  Yes  Yes  Yes  Full   $$$   No  Yes  Italian  10-30     No"
            ]
          },
          "execution_count": 50,
          "metadata": {},
          "output_type": "execute_result"
        }
      ],
      "source": [
        "# or in one step: \n",
        "italian_restaurants = restaurant_data[ restaurant_data['type'] == 'Italian' ]\n",
        "italian_restaurants"
      ]
    },
    {
      "cell_type": "markdown",
      "metadata": {
        "id": "lZLxsJ4CEGSx"
      },
      "source": [
        "# PollEverywhere Concept Check"
      ]
    },
    {
      "cell_type": "markdown",
      "metadata": {
        "id": "0O0macNfEGSx"
      },
      "source": [
        "## Try it out yourself:\n",
        "\n",
        "See if you can create a subset called `rainy_day`, of rows where it rained."
      ]
    },
    {
      "cell_type": "code",
      "execution_count": null,
      "metadata": {
        "id": "ueSdYMyYEGSx"
      },
      "outputs": [],
      "source": []
    },
    {
      "cell_type": "markdown",
      "metadata": {
        "id": "4_jv3mtjEGSy"
      },
      "source": [
        "## Subsetting Columns and Rows\n",
        "\n",
        "<div>\n",
        "<img src=\"https://github.com/merriekay/S23-CS167-Notes/blob/main/images/day02_subset_rowsandcols.png?raw=1\"/ width=500>\n",
        "</div>\n",
        "\n",
        "Let's imagine we want a subset that contains the ages of people who did not survive the Titanic. \n",
        "\n",
        "Techincally, you have the knowledge now to be able to do this, if you just break it up into two steps\n",
        "- make a subset, `victims`, of rows where `survived == 0`\n",
        "- use `victims` to create a second subset that only contains the `'Age'` column."
      ]
    },
    {
      "cell_type": "code",
      "execution_count": null,
      "metadata": {
        "id": "-pNSZQqeEGSy",
        "outputId": "65e2e83f-41d6-4038-f12a-533efe653dce"
      },
      "outputs": [
        {
          "data": {
            "text/html": [
              "<div>\n",
              "<style scoped>\n",
              "    .dataframe tbody tr th:only-of-type {\n",
              "        vertical-align: middle;\n",
              "    }\n",
              "\n",
              "    .dataframe tbody tr th {\n",
              "        vertical-align: top;\n",
              "    }\n",
              "\n",
              "    .dataframe thead th {\n",
              "        text-align: right;\n",
              "    }\n",
              "</style>\n",
              "<table border=\"1\" class=\"dataframe\">\n",
              "  <thead>\n",
              "    <tr style=\"text-align: right;\">\n",
              "      <th></th>\n",
              "      <th>survived</th>\n",
              "      <th>pclass</th>\n",
              "      <th>sex</th>\n",
              "      <th>age</th>\n",
              "      <th>sibsp</th>\n",
              "      <th>parch</th>\n",
              "      <th>fare</th>\n",
              "      <th>embarked</th>\n",
              "      <th>class</th>\n",
              "      <th>who</th>\n",
              "      <th>adult_male</th>\n",
              "      <th>deck</th>\n",
              "      <th>embark_town</th>\n",
              "      <th>alive</th>\n",
              "      <th>alone</th>\n",
              "    </tr>\n",
              "  </thead>\n",
              "  <tbody>\n",
              "    <tr>\n",
              "      <th>0</th>\n",
              "      <td>0</td>\n",
              "      <td>3</td>\n",
              "      <td>male</td>\n",
              "      <td>22.0</td>\n",
              "      <td>1</td>\n",
              "      <td>0</td>\n",
              "      <td>7.2500</td>\n",
              "      <td>S</td>\n",
              "      <td>Third</td>\n",
              "      <td>man</td>\n",
              "      <td>True</td>\n",
              "      <td>NaN</td>\n",
              "      <td>Southampton</td>\n",
              "      <td>no</td>\n",
              "      <td>False</td>\n",
              "    </tr>\n",
              "    <tr>\n",
              "      <th>4</th>\n",
              "      <td>0</td>\n",
              "      <td>3</td>\n",
              "      <td>male</td>\n",
              "      <td>35.0</td>\n",
              "      <td>0</td>\n",
              "      <td>0</td>\n",
              "      <td>8.0500</td>\n",
              "      <td>S</td>\n",
              "      <td>Third</td>\n",
              "      <td>man</td>\n",
              "      <td>True</td>\n",
              "      <td>NaN</td>\n",
              "      <td>Southampton</td>\n",
              "      <td>no</td>\n",
              "      <td>True</td>\n",
              "    </tr>\n",
              "    <tr>\n",
              "      <th>5</th>\n",
              "      <td>0</td>\n",
              "      <td>3</td>\n",
              "      <td>male</td>\n",
              "      <td>NaN</td>\n",
              "      <td>0</td>\n",
              "      <td>0</td>\n",
              "      <td>8.4583</td>\n",
              "      <td>Q</td>\n",
              "      <td>Third</td>\n",
              "      <td>man</td>\n",
              "      <td>True</td>\n",
              "      <td>NaN</td>\n",
              "      <td>Queenstown</td>\n",
              "      <td>no</td>\n",
              "      <td>True</td>\n",
              "    </tr>\n",
              "    <tr>\n",
              "      <th>6</th>\n",
              "      <td>0</td>\n",
              "      <td>1</td>\n",
              "      <td>male</td>\n",
              "      <td>54.0</td>\n",
              "      <td>0</td>\n",
              "      <td>0</td>\n",
              "      <td>51.8625</td>\n",
              "      <td>S</td>\n",
              "      <td>First</td>\n",
              "      <td>man</td>\n",
              "      <td>True</td>\n",
              "      <td>E</td>\n",
              "      <td>Southampton</td>\n",
              "      <td>no</td>\n",
              "      <td>True</td>\n",
              "    </tr>\n",
              "    <tr>\n",
              "      <th>7</th>\n",
              "      <td>0</td>\n",
              "      <td>3</td>\n",
              "      <td>male</td>\n",
              "      <td>2.0</td>\n",
              "      <td>3</td>\n",
              "      <td>1</td>\n",
              "      <td>21.0750</td>\n",
              "      <td>S</td>\n",
              "      <td>Third</td>\n",
              "      <td>child</td>\n",
              "      <td>False</td>\n",
              "      <td>NaN</td>\n",
              "      <td>Southampton</td>\n",
              "      <td>no</td>\n",
              "      <td>False</td>\n",
              "    </tr>\n",
              "  </tbody>\n",
              "</table>\n",
              "</div>"
            ],
            "text/plain": [
              "   survived  pclass   sex   age  sibsp  parch     fare embarked  class    who  \\\n",
              "0         0       3  male  22.0      1      0   7.2500        S  Third    man   \n",
              "4         0       3  male  35.0      0      0   8.0500        S  Third    man   \n",
              "5         0       3  male   NaN      0      0   8.4583        Q  Third    man   \n",
              "6         0       1  male  54.0      0      0  51.8625        S  First    man   \n",
              "7         0       3  male   2.0      3      1  21.0750        S  Third  child   \n",
              "\n",
              "   adult_male deck  embark_town alive  alone  \n",
              "0        True  NaN  Southampton    no  False  \n",
              "4        True  NaN  Southampton    no   True  \n",
              "5        True  NaN   Queenstown    no   True  \n",
              "6        True    E  Southampton    no   True  \n",
              "7       False  NaN  Southampton    no  False  "
            ]
          },
          "execution_count": 60,
          "metadata": {},
          "output_type": "execute_result"
        }
      ],
      "source": [
        "victims = titanic[titanic.survived==0]\n",
        "victims.head() "
      ]
    },
    {
      "cell_type": "code",
      "execution_count": null,
      "metadata": {
        "scrolled": true,
        "id": "ZBof5nSQEGSy",
        "outputId": "a8a11436-4c41-484a-8848-d5d370618b92"
      },
      "outputs": [
        {
          "data": {
            "text/plain": [
              "0    22.0\n",
              "4    35.0\n",
              "5     NaN\n",
              "6    54.0\n",
              "7     2.0\n",
              "Name: age, dtype: float64"
            ]
          },
          "execution_count": 62,
          "metadata": {},
          "output_type": "execute_result"
        }
      ],
      "source": [
        "subset = victims['age']\n",
        "subset.head()"
      ]
    },
    {
      "cell_type": "markdown",
      "metadata": {
        "id": "mEpUXVBcEGSy"
      },
      "source": [
        "But... we can actually do this on one step if we use `loc`/`iloc`:"
      ]
    },
    {
      "cell_type": "code",
      "execution_count": null,
      "metadata": {
        "id": "uPsOKZ1QEGSy",
        "outputId": "184fcfd0-d8d4-43fb-c9b0-09eebceb8c52"
      },
      "outputs": [
        {
          "data": {
            "text/plain": [
              "0      22.0\n",
              "4      35.0\n",
              "5       NaN\n",
              "6      54.0\n",
              "7       2.0\n",
              "       ... \n",
              "884    25.0\n",
              "885    39.0\n",
              "886    27.0\n",
              "888     NaN\n",
              "890    32.0\n",
              "Name: age, Length: 549, dtype: float64"
            ]
          },
          "execution_count": 59,
          "metadata": {},
          "output_type": "execute_result"
        }
      ],
      "source": [
        "ages = titanic.loc[titanic.survived == 0, 'age'] #the first arguement is the condition for the rows, the second is the columns\n",
        "ages"
      ]
    },
    {
      "cell_type": "markdown",
      "metadata": {
        "id": "8mB9Z6xuEGSz"
      },
      "source": [
        "## Some Handy Functions\n",
        "- `mean()`, `median()`, `sum()`"
      ]
    },
    {
      "cell_type": "code",
      "execution_count": null,
      "metadata": {
        "id": "I617wItmEGSz",
        "outputId": "d15d084d-ce5a-4828-e594-a93f1113d44f"
      },
      "outputs": [
        {
          "data": {
            "text/plain": [
              "29.69911764705882"
            ]
          },
          "execution_count": 57,
          "metadata": {},
          "output_type": "execute_result"
        }
      ],
      "source": [
        "#average age of titanic passengers:\n",
        "titanic.age.mean()\n",
        "#titanic['age'].mean()"
      ]
    },
    {
      "cell_type": "code",
      "execution_count": null,
      "metadata": {
        "id": "N5jIVlpZEGSz",
        "outputId": "838cec01-01d3-456a-c820-dd1a66509d6b"
      },
      "outputs": [
        {
          "data": {
            "text/plain": [
              "14.4542"
            ]
          },
          "execution_count": 58,
          "metadata": {},
          "output_type": "execute_result"
        }
      ],
      "source": [
        "#median ticket fare for titanic passengers:\n",
        "titanic.fare.median()"
      ]
    },
    {
      "cell_type": "code",
      "execution_count": null,
      "metadata": {
        "id": "2CYvZiLjEGSz",
        "outputId": "842752e7-42ce-45b7-e998-dadc6759e341"
      },
      "outputs": [
        {
          "data": {
            "text/plain": [
              "549"
            ]
          },
          "execution_count": 59,
          "metadata": {},
          "output_type": "execute_result"
        }
      ],
      "source": [
        "#number of survivors\n",
        "titanic.survived.sum()\n",
        "total_num_people = titanic.shape[0]\n",
        "did_not_survive= total_num_people - titanic.survived.sum()\n",
        "did_not_survive"
      ]
    },
    {
      "cell_type": "markdown",
      "metadata": {
        "id": "3CiB66tQEGSz"
      },
      "source": [
        "## Some Handy Functions\n",
        "-  `describe()`, `hist()`, `groupby()`, `unique()`"
      ]
    },
    {
      "cell_type": "code",
      "execution_count": null,
      "metadata": {
        "id": "jzpe4bgWEGS0",
        "outputId": "c8f02dd0-ca31-4059-eeca-a0580b7520eb"
      },
      "outputs": [
        {
          "data": {
            "text/plain": [
              "array([nan, 'C', 'E', 'G', 'D', 'A', 'B', 'F'], dtype=object)"
            ]
          },
          "execution_count": 60,
          "metadata": {},
          "output_type": "execute_result"
        }
      ],
      "source": [
        "#get the unique values of the Deck column\n",
        "titanic.deck.unique()"
      ]
    },
    {
      "cell_type": "code",
      "execution_count": null,
      "metadata": {
        "id": "_gbr4nl7EGS0",
        "outputId": "f6c83b76-8273-4e18-cb4e-f6e9f7c852e3"
      },
      "outputs": [
        {
          "data": {
            "text/plain": [
              "survived\n",
              "0    30.626179\n",
              "1    28.343690\n",
              "Name: age, dtype: float64"
            ]
          },
          "execution_count": 70,
          "metadata": {},
          "output_type": "execute_result"
        }
      ],
      "source": [
        "titanic.groupby(['survived'])['age'].mean()"
      ]
    },
    {
      "cell_type": "code",
      "execution_count": null,
      "metadata": {
        "id": "r4KQKsWiEGS0",
        "outputId": "5cd1205d-8a5b-4e26-97e1-b7675d95df56"
      },
      "outputs": [
        {
          "data": {
            "text/plain": [
              "<matplotlib.axes._subplots.AxesSubplot at 0x7fc074902d00>"
            ]
          },
          "execution_count": 62,
          "metadata": {},
          "output_type": "execute_result"
        },
        {
          "data": {
            "image/png": "[encoded data removed]",
            "text/plain": [
              "<Figure size 432x288 with 1 Axes>"
            ]
          },
          "metadata": {
            "needs_background": "light"
          },
          "output_type": "display_data"
        }
      ],
      "source": [
        "titanic.age.hist()"
      ]
    },
    {
      "cell_type": "code",
      "execution_count": null,
      "metadata": {
        "scrolled": true,
        "id": "Cuapcho-EGS0",
        "outputId": "a9569d3f-a92c-48b8-cea2-22b3fdfef3ff"
      },
      "outputs": [
        {
          "data": {
            "text/plain": [
              "count    714.000000\n",
              "mean      29.699118\n",
              "std       14.526497\n",
              "min        0.420000\n",
              "25%       20.125000\n",
              "50%       28.000000\n",
              "75%       38.000000\n",
              "max       80.000000\n",
              "Name: age, dtype: float64"
            ]
          },
          "execution_count": 64,
          "metadata": {},
          "output_type": "execute_result"
        }
      ],
      "source": [
        "titanic.age.describe()"
      ]
    },
    {
      "cell_type": "markdown",
      "metadata": {
        "id": "i6MxPUArEGS0"
      },
      "source": [
        "# Multiple Conditions\n",
        "What if we want to filter rows by multiple conditions?\n",
        "\n",
        "Make sure each condition is in parentheses and use the old school `|` and `&` for operators. "
      ]
    },
    {
      "cell_type": "code",
      "execution_count": null,
      "metadata": {
        "id": "-vxnrhykEGS0",
        "outputId": "db8b9929-c92d-416c-ba01-89e2773d9295"
      },
      "outputs": [
        {
          "data": {
            "text/plain": [
              "256"
            ]
          },
          "execution_count": 68,
          "metadata": {},
          "output_type": "execute_result"
        }
      ],
      "source": [
        "#women and children on titanic\n",
        "women_and_children = titanic[(titanic.age < 18) | (titanic.sex == 'female')]\n",
        "women_and_children.shape[0]\n",
        "women_and_children.survived.sum()"
      ]
    },
    {
      "cell_type": "code",
      "execution_count": null,
      "metadata": {
        "id": "VC67U-xjEGS1",
        "outputId": "8dfa50f8-2e8c-42ba-c862-d59a9f0894c4"
      },
      "outputs": [
        {
          "data": {
            "text/plain": [
              "27.276021505376345"
            ]
          },
          "execution_count": 72,
          "metadata": {},
          "output_type": "execute_result"
        }
      ],
      "source": [
        "# men who survived\n",
        "men_who_survived = titanic[(titanic.sex == 'male') & (titanic.survived == 1)]\n",
        "men_who_survived.shape[0]\n",
        "men_who_survived.age.mean()"
      ]
    },
    {
      "cell_type": "markdown",
      "metadata": {
        "id": "ZvLZy5IJEGS1"
      },
      "source": [
        "# Pandas Exercises 💪🏻🐼\n",
        "The following cells contain exercises for you to try out on your own and play around with Pandas. \n",
        "\n",
        "This will help you feel prepared for Notebook #1. \n",
        "\n",
        "Feel free to work with others around you."
      ]
    },
    {
      "cell_type": "code",
      "execution_count": null,
      "metadata": {
        "id": "Px1mBWIOEGS1"
      },
      "outputs": [],
      "source": [
        "#selecting columns in dataframes\n",
        "import pandas\n",
        "from google.colab import drive\n",
        "drive.mount('/content/drive')"
      ]
    },
    {
      "cell_type": "code",
      "execution_count": null,
      "metadata": {
        "id": "RRWGpM_7EGS1"
      },
      "outputs": [],
      "source": [
        "#import the data:\n",
        "#make sure the path on the line below corresponds to the path where you put your dataset.\n",
        "titanic = pandas.read_csv(\"/content/drive/MyDrive/CS167/datasets/titanic.csv\")\n",
        "titanic.head()"
      ]
    },
    {
      "cell_type": "code",
      "execution_count": null,
      "metadata": {
        "id": "wjwvH-CwEGS1"
      },
      "outputs": [],
      "source": [
        "# what is the data type of titanic?"
      ]
    },
    {
      "cell_type": "code",
      "execution_count": null,
      "metadata": {
        "id": "W-hACk4REGS1"
      },
      "outputs": [],
      "source": [
        "# what are the features (column titles) of the titanic dataset?"
      ]
    },
    {
      "cell_type": "code",
      "execution_count": null,
      "metadata": {
        "id": "aeaVvEmCEGS2"
      },
      "outputs": [],
      "source": [
        "# display only the 'embark_town' column of the titanic data"
      ]
    },
    {
      "cell_type": "code",
      "execution_count": null,
      "metadata": {
        "id": "mVZnLzIvEGS2"
      },
      "outputs": [],
      "source": [
        "# what is the data type of the result of the previous cell? "
      ]
    },
    {
      "cell_type": "code",
      "execution_count": null,
      "metadata": {
        "id": "YZuhrVi-EGS2"
      },
      "outputs": [],
      "source": [
        "# what is the \"shape\" of the data frame?"
      ]
    },
    {
      "cell_type": "code",
      "execution_count": null,
      "metadata": {
        "id": "4Dvkj7-LEGS2"
      },
      "outputs": [],
      "source": [
        "# make a subset (call the variable 'subset') of the data that consists of the last 20 rows of the data;\n",
        "# verify that your subset has 20 rows"
      ]
    },
    {
      "cell_type": "code",
      "execution_count": null,
      "metadata": {
        "id": "WxZH7J52EGS2"
      },
      "outputs": [],
      "source": [
        "# use loc to print out the data for passenger 890 on the titanic dataframe\n",
        "# use iloc to print out the data for passenger 890 on the subest dataframe"
      ]
    },
    {
      "cell_type": "code",
      "execution_count": null,
      "metadata": {
        "id": "S7uKiZVCEGS2"
      },
      "outputs": [],
      "source": [
        "# use a markdown cell; describe the difference between loc and iloc"
      ]
    },
    {
      "cell_type": "code",
      "execution_count": null,
      "metadata": {
        "id": "oqCsYI3QEGS3"
      },
      "outputs": [],
      "source": [
        "# create a subset of the data (call the variable 'queenstown_subset') that consists only of passengers with\n",
        "# a 'embark_town' that is \"Queenstown\"\n",
        "# hint: if you get a warning, you may need to explicitly note that you are making a copy of the original data by using \n",
        "# the .copy() function"
      ]
    },
    {
      "cell_type": "code",
      "execution_count": null,
      "metadata": {
        "id": "cH-R9jDLEGS3"
      },
      "outputs": [],
      "source": [
        "# how many passengers are in queenstown_subset?"
      ]
    },
    {
      "cell_type": "code",
      "execution_count": null,
      "metadata": {
        "id": "ZG9RegehEGS3"
      },
      "outputs": [],
      "source": [
        "# what is the average fare for all of those in the queenstown_subset?"
      ]
    },
    {
      "cell_type": "code",
      "execution_count": null,
      "metadata": {
        "id": "GeWRp-_gEGS3"
      },
      "outputs": [],
      "source": [
        "# what is the average age for all of those in the queenstown_subset?\n",
        "# do all of the passengers have an age recorded? What is recorded if there is no age?"
      ]
    },
    {
      "cell_type": "code",
      "execution_count": null,
      "metadata": {
        "id": "a4e585l4EGS3"
      },
      "outputs": [],
      "source": [
        "# What does unique(), mean(), isnull(), and fillna() do? Use a markdown cell to write your answers\n",
        "# Use the Pandas documentation (https://pandas.pydata.org/pandas-docs/stable/reference/index.html)"
      ]
    },
    {
      "cell_type": "code",
      "execution_count": null,
      "metadata": {
        "id": "rIekPqFEEGS3"
      },
      "outputs": [],
      "source": [
        "# give examples of your use of unique(), mean(), median(), isnull()"
      ]
    },
    {
      "cell_type": "code",
      "execution_count": null,
      "metadata": {
        "id": "r1jBZRqIEGS3"
      },
      "outputs": [],
      "source": [
        "# in the queenstown_subet dataframe\n",
        "# for each row that does not have an age recorded, replace the NaN value with the calculated average\n",
        "# hint: don't use a loop; it can be done in 1 line of code using fillna()"
      ]
    },
    {
      "cell_type": "code",
      "execution_count": null,
      "metadata": {
        "id": "ecGNjrdlEGS3"
      },
      "outputs": [],
      "source": [
        "# load in the iris data\n",
        "# what is the median sepal width of just the Setosas?"
      ]
    },
    {
      "cell_type": "code",
      "execution_count": null,
      "metadata": {
        "id": "tW2AWLZNEGS4"
      },
      "outputs": [],
      "source": [
        "# for those iris that are classified as versicolor and have \n",
        "# a petal-length > 4, what is the average sepal width?"
      ]
    },
    {
      "cell_type": "markdown",
      "metadata": {
        "id": "zALDsdeXEGS4"
      },
      "source": [
        "Congrats! Now you're ready to move on to Notebook #1!"
      ]
    }
  ],
  "metadata": {
    "celltoolbar": "Slideshow",
    "kernelspec": {
      "display_name": "Python 3",
      "language": "python",
      "name": "python3"
    },
    "language_info": {
      "codemirror_mode": {
        "name": "ipython",
        "version": 3
      },
      "file_extension": ".py",
      "mimetype": "text/x-python",
      "name": "python",
      "nbconvert_exporter": "python",
      "pygments_lexer": "ipython3",
      "version": "3.8.3"
    },
    "colab": {
      "provenance": [],
      "include_colab_link": true
    }
  },
  "nbformat": 4,
  "nbformat_minor": 0
}